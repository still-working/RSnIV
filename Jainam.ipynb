{
  "nbformat": 4,
  "nbformat_minor": 0,
  "metadata": {
    "colab": {
      "name": "Untitled1.ipynb",
      "provenance": [],
      "collapsed_sections": []
    },
    "kernelspec": {
      "name": "python3",
      "display_name": "Python 3"
    },
    "language_info": {
      "name": "python"
    }
  },
  "cells": [
    {
      "cell_type": "code",
      "execution_count": 13,
      "metadata": {
        "id": "OJar6LgovUjM"
      },
      "outputs": [],
      "source": [
        "import numpy as np\n",
        "from matplotlib import pyplot as plt\n",
        "import pandas as pd\n",
        "import seaborn as sns\n",
        "# we weren't introduced to seaborn\n"
      ]
    },
    {
      "cell_type": "code",
      "source": [
        "df=pd.read_csv(r\"C:\\Users\\jaina\\OneDrive\\Desktop\\LearnPython\\Pokemon.csv\") #It is running fine on pycharm but showing error here"
      ],
      "metadata": {
        "id": "XHLTgHk9v_M_"
      },
      "execution_count": null,
      "outputs": []
    },
    {
      "cell_type": "code",
      "source": [
        "shape=df.shape\n",
        "print(shape)"
      ],
      "metadata": {
        "id": "tgzQaoRLwrIW"
      },
      "execution_count": null,
      "outputs": []
    },
    {
      "cell_type": "code",
      "source": [
        "column_names=df.columns\n",
        "print(column_names)\n"
      ],
      "metadata": {
        "id": "PtQo6LUyxOR0"
      },
      "execution_count": null,
      "outputs": []
    },
    {
      "cell_type": "code",
      "source": [
        "df=df.drop(columns=['#'])"
      ],
      "metadata": {
        "id": "R1HxEJjWx_KH"
      },
      "execution_count": null,
      "outputs": []
    },
    {
      "cell_type": "code",
      "source": [
        "print(list(set(df['Type 1'])))"
      ],
      "metadata": {
        "id": "87jyAcb_1D20"
      },
      "execution_count": null,
      "outputs": []
    },
    {
      "cell_type": "code",
      "source": [
        "Mega_pok=(df.loc[df[\"Name\"].str.contains(\"Mega\")])\n",
        "print(Mega_pok.shape[0])"
      ],
      "metadata": {
        "id": "GeRUt0yY1fY-"
      },
      "execution_count": null,
      "outputs": []
    },
    {
      "cell_type": "code",
      "source": [
        "  print(df[\"Sp. Def\"].std())"
      ],
      "metadata": {
        "id": "ckhq3ZG-7y12"
      },
      "execution_count": null,
      "outputs": []
    },
    {
      "cell_type": "code",
      "source": [
        "Legendary_pok=df.loc[(df['Legendary'])]\n",
        "percentage=Legendary_pok.shape[0]/df.shape[0]*100\n",
        "print(round(percentage,3))"
      ],
      "metadata": {
        "id": "0ebhJRkV8mew"
      },
      "execution_count": null,
      "outputs": []
    },
    {
      "cell_type": "code",
      "source": [
        "plt.subplot(311)\n",
        "ax = sns.countplot(x=\"Type 1\",data=df)\n",
        "plt.title('Type 1')\n",
        "\n",
        "plt.subplot(312)\n",
        "bx = sns.countplot(x=\"Type 2\",data=df)\n",
        "plt.title('Type 2')\n",
        "\n",
        "plt.subplot(313)\n",
        "gen_range=[1,2,3,4,5,6,7]\n",
        "plt.hist(df['Generation'],gen_range,histtype='bar',rwidth=0.8)\n",
        "plt.xlabel(\"x\")\n",
        "plt.ylabel(\"y\")\n",
        "plt.title('Generation')\n",
        "\n",
        "plt.show()\n",
        "\n",
        "\n",
        "print(df['Type 1'].mode())\n",
        "print(df['Type 2'].mode())\n",
        "print(df['Generation'].mode())\n",
        "\n"
      ],
      "metadata": {
        "id": "2aSQz3rxxnD4"
      },
      "execution_count": null,
      "outputs": []
    },
    {
      "cell_type": "code",
      "source": [
        "def f(a):\n",
        "    print('Mean is ',df[a].mean())\n",
        "    print('Variance is ',df[a].var())\n",
        "    print('Skew is ',df[a].skew())\n",
        "    print('Min is ',df[a].min())\n",
        "    print('Max is ',df[a].max())\n",
        "    print('Median is ',df[a].median())\n",
        "    print('25% Percentile is ',df[a].quantile(0.25))\n",
        "    print('75% Percentile is ',df[a].quantile(0.75))\n",
        "    print('Inter-Quantile Range is ',df[a].quantile(0.75)-df[a].quantile(0.25))\n",
        "\n",
        "inp1=input(\"Enter a variable:\" )\n",
        "f(inp1)\n",
        "\n",
        "def g(b):\n",
        "    plt.boxplot(df[b], patch_artist = True, notch ='True', vert = 0)\n",
        "    plt.title(b)\n",
        "    plt.show()\n",
        "inp2=input(\"Enter a variable: \")\n",
        "g(inp2)\n",
        "\n"
      ],
      "metadata": {
        "id": "KXmK2QGX0SY_"
      },
      "execution_count": null,
      "outputs": []
    },
    {
      "cell_type": "code",
      "source": [
        "plt.subplot(211)\n",
        "cx = sns.boxplot(x=\"Type 1\", y=\"Defense\", data=df)\n",
        "\n",
        "plt.subplot(212)\n",
        "dx = sns.boxplot(x=\"Generation\", y=\"Speed\", data=df)\n",
        "plt.show()\n",
        "\n",
        "cont_var=df[['Total', 'HP', 'Attack', 'Defense','Sp. Atk', 'Sp. Def', 'Speed']]\n",
        "hm = sns.heatmap(data=cont_var.corr())\n",
        "plt.show()"
      ],
      "metadata": {
        "id": "8f79tJvaFJUY"
      },
      "execution_count": null,
      "outputs": []
    }
  ]
}